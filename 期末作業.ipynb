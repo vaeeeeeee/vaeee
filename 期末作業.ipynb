{
  "nbformat": 4,
  "nbformat_minor": 0,
  "metadata": {
    "colab": {
      "provenance": [],
      "authorship_tag": "ABX9TyPEtp2T5ZoVrYKZnsDtEn4i",
      "include_colab_link": true
    },
    "kernelspec": {
      "name": "python3",
      "display_name": "Python 3"
    },
    "language_info": {
      "name": "python"
    }
  },
  "cells": [
    {
      "cell_type": "markdown",
      "metadata": {
        "id": "view-in-github",
        "colab_type": "text"
      },
      "source": [
        "<a href=\"https://colab.research.google.com/github/vaeeeeeee/vaeee/blob/main/%E6%9C%9F%E6%9C%AB%E4%BD%9C%E6%A5%AD.ipynb\" target=\"_parent\"><img src=\"https://colab.research.google.com/assets/colab-badge.svg\" alt=\"Open In Colab\"/></a>"
      ]
    },
    {
      "cell_type": "code",
      "source": [
        "import matplotlib.pyplot as plt\n",
        "\n",
        "cities = {\n",
        "    'A': (0, 0),\n",
        "    'B': (0, 120),\n",
        "    'C': (30, 100),\n",
        "    'D': (80, 0),\n",
        "    'E': (45, 10),\n",
        "    'F': (90, 160),\n",
        "    'G': (120, 200)\n",
        "}\n",
        "\n",
        "# Extract x and y coordinates\n",
        "x = [coord[0] for coord in cities.values()]\n",
        "y = [coord[1] for coord in cities.values()]\n",
        "\n",
        "# Plot the cities\n",
        "plt.scatter(x, y)\n",
        "\n",
        "# Add labels for each city\n",
        "for city, coord in cities.items():\n",
        "    plt.annotate(city, coord, textcoords=\"offset points\", xytext=(0,10), ha='center')\n",
        "\n",
        "# Set plot title and axis labels\n",
        "plt.title(\"City Locations\")\n",
        "plt.xlabel(\"X Coordinate\")\n",
        "plt.ylabel(\"Y Coordinate\")\n",
        "\n",
        "# Set plot limits\n",
        "plt.xlim(-10, 130)\n",
        "plt.ylim(-10, 220)\n",
        "\n",
        "# Display the plot\n",
        "plt.show()\n"
      ],
      "metadata": {
        "colab": {
          "base_uri": "https://localhost:8080/",
          "height": 472
        },
        "id": "e6Hw7kGfzgKj",
        "outputId": "50133ce6-f68c-4d82-a98e-8a33b2121eb6"
      },
      "execution_count": null,
      "outputs": [
        {
          "output_type": "display_data",
          "data": {
            "text/plain": [
              "<Figure size 640x480 with 1 Axes>"
            ],
            "image/png": "[encoded data removed]"
          },
          "metadata": {}
        }
      ]
    },
    {
      "cell_type": "code",
      "source": [
        "import sys\n",
        "\n",
        "class City:\n",
        "    def __init__(self, name, coordinates, accommodation_cost):\n",
        "        self.name = name\n",
        "        self.coordinates = coordinates\n",
        "        self.accommodation_cost = accommodation_cost\n",
        "\n",
        "    def calculate_discounted_cost(self, previous_city):\n",
        "        if previous_city is None:\n",
        "            return self.accommodation_cost\n",
        "        if previous_city.name == 'C' and self.name in ['A', 'G']:\n",
        "            return self.accommodation_cost * 0.8\n",
        "        if previous_city.name == 'D' and self.name in ['A', 'B']:\n",
        "            return self.accommodation_cost * 0.8\n",
        "        if previous_city.name == 'E' and self.name in ['B', 'F']:\n",
        "            return self.accommodation_cost * 0.8\n",
        "        if previous_city.name == 'F' and self.name in ['A', 'C']:\n",
        "            return self.accommodation_cost * 0.8\n",
        "        if previous_city.name == 'G' and self.name in ['E', 'F']:\n",
        "            return self.accommodation_cost * 0.8\n",
        "        return self.accommodation_cost\n",
        "\n",
        "def calculate_distance(city1, city2):\n",
        "    x1, y1 = city1.coordinates\n",
        "    x2, y2 = city2.coordinates\n",
        "    return ((x2 - x1)**2 + (y2 - y1)**2) ** 0.5\n",
        "\n",
        "def find_cheapest_route(current_city, remaining_cities, total_cost, route, best_route, min_cost):\n",
        "    if len(remaining_cities) == 0:\n",
        "        if current_city.name != start_city.name:  # Exclude the cost of returning to the start city\n",
        "            total_cost += current_city.calculate_discounted_cost(route[-1])\n",
        "        if total_cost < min_cost:\n",
        "            min_cost = total_cost\n",
        "            best_route = route[:]\n",
        "        return best_route, min_cost\n",
        "\n",
        "    for next_city in remaining_cities:\n",
        "        next_remaining_cities = remaining_cities[:]\n",
        "        next_remaining_cities.remove(next_city)\n",
        "        distance = calculate_distance(current_city, next_city)\n",
        "        next_total_cost = total_cost + distance * 100\n",
        "        route.append(next_city)\n",
        "        best_route, min_cost = find_cheapest_route(next_city, next_remaining_cities, next_total_cost, route, best_route, min_cost)\n",
        "        route.pop()\n",
        "\n",
        "    return best_route, min_cost\n",
        "\n",
        "\n",
        "A = City('A', (0, 0), 2000)\n",
        "B = City('B', (0, 120), 2400)\n",
        "C = City('C', (30, 100), 2400)\n",
        "D = City('D', (80, 0), 1600)\n",
        "E = City('E', (45, 10), 1500)\n",
        "F = City('F', (90, 160), 2200)\n",
        "G = City('G', (120, 200), 1200)\n",
        "\n",
        "\n",
        "cities = [A, B, C, D, E, F, G]\n",
        "start_city = A\n",
        "remaining_cities = cities[:]\n",
        "remaining_cities.remove(start_city)\n",
        "total_cost = 0\n",
        "route = [start_city]\n",
        "best_route = None\n",
        "min_cost = sys.maxsize\n",
        "\n",
        "\n",
        "best_route, min_cost = find_cheapest_route(start_city, remaining_cities, total_cost, route, best_route, min_cost)\n",
        "\n",
        "\n",
        "print(\"遊歷順序:\")\n",
        "for city in best_route:\n",
        "    print(city.name)\n",
        "print(\"總花費:\", min_cost)\n"
      ],
      "metadata": {
        "colab": {
          "base_uri": "https://localhost:8080/"
        },
        "id": "U69nGt71LbAW",
        "outputId": "6eefcf07-151a-45e5-fe80-35fd7e2554c1"
      },
      "execution_count": 15,
      "outputs": [
        {
          "output_type": "stream",
          "name": "stdout",
          "text": [
            "遊歷順序:\n",
            "A\n",
            "E\n",
            "D\n",
            "C\n",
            "B\n",
            "F\n",
            "G\n",
            "總花費: 39084.57613804574\n"
          ]
        }
      ]
    },
    {
      "cell_type": "code",
      "source": [
        "import math\n",
        "\n",
        "class City:\n",
        "    def __init__(self, name, x, y, accommodation_cost):\n",
        "        self.name = name\n",
        "        self.x = x\n",
        "        self.y = y\n",
        "        self.accommodation_cost = accommodation_cost\n",
        "\n",
        "def calculate_discounted_cost(current_city, previous_city):\n",
        "    discount = 0.8\n",
        "    if previous_city == 'A' or previous_city == 'B':\n",
        "        discount = 0.8\n",
        "    return current_city.accommodation_cost * discount\n",
        "\n",
        "def calculate_distance(city1, city2):\n",
        "    return math.sqrt((city2.x - city1.x) ** 2 + (city2.y - city1.y) ** 2)\n",
        "\n",
        "A = City('A', 0, 0, 2000)\n",
        "B = City('B', 0, 120, 2400)\n",
        "C = City('C', 30, 100, 2400)\n",
        "D = City('D', 80, 0, 1600)\n",
        "E = City('E', 45, 10, 1500)\n",
        "F = City('F', 90, 160, 2200)\n",
        "G = City('G', 120, 200, 1200)\n",
        "\n",
        "cities = {'A': A, 'B': B, 'C': C, 'D': D, 'E': E, 'F': F, 'G': G}\n",
        "\n",
        "# 假設從城市A出發\n",
        "current_city = 'D'\n",
        "visited_cities = [current_city]\n",
        "total_cost = 0\n",
        "\n",
        "while len(visited_cities) < 7:\n",
        "    min_cost = float('inf')\n",
        "    next_city = None\n",
        "    for city_name, city in cities.items():\n",
        "        if city_name not in visited_cities:\n",
        "            distance = calculate_distance(cities[current_city], city)\n",
        "            accommodation_cost = calculate_discounted_cost(city, current_city)\n",
        "            total_cost = total_cost + 100 * distance + accommodation_cost\n",
        "            if total_cost < min_cost:\n",
        "                min_cost = total_cost\n",
        "                next_city = city_name\n",
        "            total_cost = total_cost - (100 * distance + accommodation_cost)\n",
        "    visited_cities.append(next_city)\n",
        "    current_city = next_city\n",
        "    total_cost = min_cost\n",
        "\n",
        "print(\"遊歷順序:\", visited_cities)\n",
        "print(\"總花費:\", total_cost)\n",
        "\n"
      ],
      "metadata": {
        "colab": {
          "base_uri": "https://localhost:8080/"
        },
        "id": "2HyUpWGaLlHj",
        "outputId": "07fff0c7-09e3-4e4f-931f-b26026f67349"
      },
      "execution_count": 14,
      "outputs": [
        {
          "output_type": "stream",
          "name": "stdout",
          "text": [
            "遊歷順序: ['D', 'E', 'A', 'C', 'B', 'F', 'G']\n",
            "總花費: 46504.54275945734\n"
          ]
        }
      ]
    }
  ]
}